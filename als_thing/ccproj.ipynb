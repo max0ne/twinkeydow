{
 "cells": [
  {
   "cell_type": "code",
   "execution_count": 1,
   "metadata": {},
   "outputs": [],
   "source": [
    "import boto3\n",
    "import pandas as pd"
   ]
  },
  {
   "cell_type": "code",
   "execution_count": 2,
   "metadata": {},
   "outputs": [
    {
     "data": {
      "text/html": [
       "<div>\n",
       "<style scoped>\n",
       "    .dataframe tbody tr th:only-of-type {\n",
       "        vertical-align: middle;\n",
       "    }\n",
       "\n",
       "    .dataframe tbody tr th {\n",
       "        vertical-align: top;\n",
       "    }\n",
       "\n",
       "    .dataframe thead th {\n",
       "        text-align: right;\n",
       "    }\n",
       "</style>\n",
       "<table border=\"1\" class=\"dataframe\">\n",
       "  <thead>\n",
       "    <tr style=\"text-align: right;\">\n",
       "      <th></th>\n",
       "      <th>uid</th>\n",
       "      <th>repoid</th>\n",
       "    </tr>\n",
       "  </thead>\n",
       "  <tbody>\n",
       "    <tr>\n",
       "      <th>0</th>\n",
       "      <td>8740207</td>\n",
       "      <td>3964514</td>\n",
       "    </tr>\n",
       "    <tr>\n",
       "      <th>1</th>\n",
       "      <td>8740207</td>\n",
       "      <td>85077558</td>\n",
       "    </tr>\n",
       "    <tr>\n",
       "      <th>2</th>\n",
       "      <td>8740207</td>\n",
       "      <td>101296881</td>\n",
       "    </tr>\n",
       "    <tr>\n",
       "      <th>3</th>\n",
       "      <td>8740207</td>\n",
       "      <td>60493101</td>\n",
       "    </tr>\n",
       "    <tr>\n",
       "      <th>4</th>\n",
       "      <td>4782875</td>\n",
       "      <td>110748052</td>\n",
       "    </tr>\n",
       "  </tbody>\n",
       "</table>\n",
       "</div>"
      ],
      "text/plain": [
       "       uid     repoid\n",
       "0  8740207    3964514\n",
       "1  8740207   85077558\n",
       "2  8740207  101296881\n",
       "3  8740207   60493101\n",
       "4  4782875  110748052"
      ]
     },
     "execution_count": 2,
     "metadata": {},
     "output_type": "execute_result"
    }
   ],
   "source": [
    "# train_file = pd.read_csv('Downloads/twinkeydow-master/als_thing/data/train.csv', index_col=None, sep=',') \\\n",
    "#     .drop_duplicates()\n",
    "train_file = pd.read_csv('Downloads/16kUser.csv', index_col=None, sep=',') \\\n",
    "    .drop_duplicates()\n",
    "\n",
    "# train_file.columns = ['uid', 'repoid', 'uname', 'reponame', 'date']\n",
    "train_file.columns = ['uid', 'repoid']\n",
    "train_file = train_file.drop_duplicates()\n",
    "train_file.dropna(inplace=True)\n",
    "train_file.repoid = train_file.repoid.astype(int)\n",
    "train_file.head()"
   ]
  },
  {
   "cell_type": "code",
   "execution_count": 3,
   "metadata": {},
   "outputs": [
    {
     "data": {
      "text/html": [
       "<div>\n",
       "<style scoped>\n",
       "    .dataframe tbody tr th:only-of-type {\n",
       "        vertical-align: middle;\n",
       "    }\n",
       "\n",
       "    .dataframe tbody tr th {\n",
       "        vertical-align: top;\n",
       "    }\n",
       "\n",
       "    .dataframe thead th {\n",
       "        text-align: right;\n",
       "    }\n",
       "</style>\n",
       "<table border=\"1\" class=\"dataframe\">\n",
       "  <thead>\n",
       "    <tr style=\"text-align: right;\">\n",
       "      <th></th>\n",
       "      <th>uid</th>\n",
       "      <th>repoid</th>\n",
       "    </tr>\n",
       "  </thead>\n",
       "  <tbody>\n",
       "    <tr>\n",
       "      <th>0</th>\n",
       "      <td>13039951</td>\n",
       "      <td>3964514</td>\n",
       "    </tr>\n",
       "    <tr>\n",
       "      <th>1</th>\n",
       "      <td>13039951</td>\n",
       "      <td>85077558</td>\n",
       "    </tr>\n",
       "    <tr>\n",
       "      <th>2</th>\n",
       "      <td>5056560</td>\n",
       "      <td>101296881</td>\n",
       "    </tr>\n",
       "    <tr>\n",
       "      <th>3</th>\n",
       "      <td>5056560</td>\n",
       "      <td>60493101</td>\n",
       "    </tr>\n",
       "    <tr>\n",
       "      <th>4</th>\n",
       "      <td>5056560</td>\n",
       "      <td>110748052</td>\n",
       "    </tr>\n",
       "  </tbody>\n",
       "</table>\n",
       "</div>"
      ],
      "text/plain": [
       "        uid     repoid\n",
       "0  13039951    3964514\n",
       "1  13039951   85077558\n",
       "2   5056560  101296881\n",
       "3   5056560   60493101\n",
       "4   5056560  110748052"
      ]
     },
     "execution_count": 3,
     "metadata": {},
     "output_type": "execute_result"
    }
   ],
   "source": [
    "# user_file = pd.read_csv('Downloads/twinkeydow-master/als_thing/data/user.csv', index_col=None, sep=',') \\\n",
    "#     .drop_duplicates()\n",
    "user_file = pd.read_csv('Downloads/registerd_user_star_repo.csv', index_col=None, sep=',') \\\n",
    "    .drop_duplicates()\n",
    "\n",
    "#the users that have alreday register out web app.\n",
    "    \n",
    "# user_file.columns = ['uid', 'repoid', 'uname', 'reponame', 'date']\n",
    "user_file.columns = ['uid', 'repoid']\n",
    "user_file = user_file.drop_duplicates()\n",
    "user_file.dropna(inplace=True)\n",
    "user_file.repoid = train_file.repoid.astype(int)\n",
    "user_file.head()"
   ]
  },
  {
   "cell_type": "code",
   "execution_count": 4,
   "metadata": {},
   "outputs": [
    {
     "data": {
      "text/html": [
       "<div>\n",
       "<style scoped>\n",
       "    .dataframe tbody tr th:only-of-type {\n",
       "        vertical-align: middle;\n",
       "    }\n",
       "\n",
       "    .dataframe tbody tr th {\n",
       "        vertical-align: top;\n",
       "    }\n",
       "\n",
       "    .dataframe thead th {\n",
       "        text-align: right;\n",
       "    }\n",
       "</style>\n",
       "<table border=\"1\" class=\"dataframe\">\n",
       "  <thead>\n",
       "    <tr style=\"text-align: right;\">\n",
       "      <th></th>\n",
       "      <th>uid</th>\n",
       "      <th>repoid</th>\n",
       "    </tr>\n",
       "  </thead>\n",
       "  <tbody>\n",
       "    <tr>\n",
       "      <th>0</th>\n",
       "      <td>8740207</td>\n",
       "      <td>3964514</td>\n",
       "    </tr>\n",
       "    <tr>\n",
       "      <th>1</th>\n",
       "      <td>8740207</td>\n",
       "      <td>85077558</td>\n",
       "    </tr>\n",
       "    <tr>\n",
       "      <th>2</th>\n",
       "      <td>8740207</td>\n",
       "      <td>101296881</td>\n",
       "    </tr>\n",
       "    <tr>\n",
       "      <th>3</th>\n",
       "      <td>8740207</td>\n",
       "      <td>60493101</td>\n",
       "    </tr>\n",
       "    <tr>\n",
       "      <th>4</th>\n",
       "      <td>4782875</td>\n",
       "      <td>110748052</td>\n",
       "    </tr>\n",
       "  </tbody>\n",
       "</table>\n",
       "</div>"
      ],
      "text/plain": [
       "       uid     repoid\n",
       "0  8740207    3964514\n",
       "1  8740207   85077558\n",
       "2  8740207  101296881\n",
       "3  8740207   60493101\n",
       "4  4782875  110748052"
      ]
     },
     "execution_count": 4,
     "metadata": {},
     "output_type": "execute_result"
    }
   ],
   "source": [
    "\n",
    "# take only uid / repoid\n",
    "train_file = train_file[['uid', 'repoid']]\n",
    "train_file.head()"
   ]
  },
  {
   "cell_type": "code",
   "execution_count": 5,
   "metadata": {},
   "outputs": [
    {
     "data": {
      "text/html": [
       "<div>\n",
       "<style scoped>\n",
       "    .dataframe tbody tr th:only-of-type {\n",
       "        vertical-align: middle;\n",
       "    }\n",
       "\n",
       "    .dataframe tbody tr th {\n",
       "        vertical-align: top;\n",
       "    }\n",
       "\n",
       "    .dataframe thead th {\n",
       "        text-align: right;\n",
       "    }\n",
       "</style>\n",
       "<table border=\"1\" class=\"dataframe\">\n",
       "  <thead>\n",
       "    <tr style=\"text-align: right;\">\n",
       "      <th></th>\n",
       "      <th>uid</th>\n",
       "      <th>repoid</th>\n",
       "    </tr>\n",
       "  </thead>\n",
       "  <tbody>\n",
       "    <tr>\n",
       "      <th>0</th>\n",
       "      <td>13039951</td>\n",
       "      <td>3964514</td>\n",
       "    </tr>\n",
       "    <tr>\n",
       "      <th>1</th>\n",
       "      <td>13039951</td>\n",
       "      <td>85077558</td>\n",
       "    </tr>\n",
       "    <tr>\n",
       "      <th>2</th>\n",
       "      <td>5056560</td>\n",
       "      <td>101296881</td>\n",
       "    </tr>\n",
       "    <tr>\n",
       "      <th>3</th>\n",
       "      <td>5056560</td>\n",
       "      <td>60493101</td>\n",
       "    </tr>\n",
       "    <tr>\n",
       "      <th>4</th>\n",
       "      <td>5056560</td>\n",
       "      <td>110748052</td>\n",
       "    </tr>\n",
       "  </tbody>\n",
       "</table>\n",
       "</div>"
      ],
      "text/plain": [
       "        uid     repoid\n",
       "0  13039951    3964514\n",
       "1  13039951   85077558\n",
       "2   5056560  101296881\n",
       "3   5056560   60493101\n",
       "4   5056560  110748052"
      ]
     },
     "execution_count": 5,
     "metadata": {},
     "output_type": "execute_result"
    }
   ],
   "source": [
    "# same thing for user file\n",
    "user_file = user_file[['uid', 'repoid']]\n",
    "user_file.head()"
   ]
  },
  {
   "cell_type": "code",
   "execution_count": 6,
   "metadata": {},
   "outputs": [],
   "source": [
    "import findspark\n",
    "findspark.init(\"/usr/local/spark-2.3.0\")\n",
    "\n",
    "from pyspark import SparkContext\n",
    "from pyspark.sql import SQLContext\n",
    "\n",
    "from pyspark.mllib.recommendation import ALS\n",
    "\n",
    "sc = SparkContext(appName=\"RR\")\n",
    "sqlContext = SQLContext(sc)"
   ]
  },
  {
   "cell_type": "code",
   "execution_count": 7,
   "metadata": {},
   "outputs": [],
   "source": [
    "def first_two_column(row):\n",
    "    return (int(row[0]), int(row[1]), 1.0)"
   ]
  },
  {
   "cell_type": "code",
   "execution_count": 8,
   "metadata": {},
   "outputs": [],
   "source": [
    "training_rdd = sqlContext.createDataFrame(train_file).rdd\n",
    "training_rdd = training_rdd \\\n",
    "    .map(first_two_column)"
   ]
  },
  {
   "cell_type": "code",
   "execution_count": 9,
   "metadata": {},
   "outputs": [
    {
     "data": {
      "text/plain": [
       "[(8740207, 3964514, 1.0),\n",
       " (8740207, 85077558, 1.0),\n",
       " (8740207, 101296881, 1.0),\n",
       " (8740207, 60493101, 1.0),\n",
       " (4782875, 110748052, 1.0)]"
      ]
     },
     "execution_count": 9,
     "metadata": {},
     "output_type": "execute_result"
    }
   ],
   "source": [
    "training_rdd.take(5)"
   ]
  },
  {
   "cell_type": "code",
   "execution_count": 10,
   "metadata": {},
   "outputs": [],
   "source": [
    "# this takes a short while too\n",
    "model = ALS.trainImplicit( \\\n",
    "    training_rdd,\n",
    "    rank=16,\n",
    "    iterations=10,\n",
    "    lambda_=0.1,\n",
    "    alpha=80.0\n",
    ")"
   ]
  },
  {
   "cell_type": "code",
   "execution_count": 14,
   "metadata": {},
   "outputs": [
    {
     "data": {
      "text/plain": [
       "[Row(uid=13039951, repoid=3964514),\n",
       " Row(uid=13039951, repoid=85077558),\n",
       " Row(uid=5056560, repoid=101296881),\n",
       " Row(uid=5056560, repoid=60493101),\n",
       " Row(uid=5056560, repoid=110748052)]"
      ]
     },
     "execution_count": 14,
     "metadata": {},
     "output_type": "execute_result"
    }
   ],
   "source": [
    "user_rdd = sqlContext.createDataFrame(user_file).rdd\n",
    "user_rdd.take(5)"
   ]
  },
  {
   "cell_type": "code",
   "execution_count": 15,
   "metadata": {},
   "outputs": [],
   "source": [
    "# append user to training set and train again\n",
    "training_rdd = training_rdd.union(user_rdd.map(first_two_column))\n",
    "# this takes a short while too\n",
    "model = ALS.trainImplicit( \\\n",
    "    training_rdd,\n",
    "    rank=16,\n",
    "    iterations=10,\n",
    "    lambda_=0.1,\n",
    "    alpha=80.0\n",
    ")"
   ]
  },
  {
   "cell_type": "code",
   "execution_count": 16,
   "metadata": {},
   "outputs": [
    {
     "data": {
      "text/html": [
       "<div>\n",
       "<style scoped>\n",
       "    .dataframe tbody tr th:only-of-type {\n",
       "        vertical-align: middle;\n",
       "    }\n",
       "\n",
       "    .dataframe tbody tr th {\n",
       "        vertical-align: top;\n",
       "    }\n",
       "\n",
       "    .dataframe thead th {\n",
       "        text-align: right;\n",
       "    }\n",
       "</style>\n",
       "<table border=\"1\" class=\"dataframe\">\n",
       "  <thead>\n",
       "    <tr style=\"text-align: right;\">\n",
       "      <th></th>\n",
       "      <th>uid</th>\n",
       "    </tr>\n",
       "  </thead>\n",
       "  <tbody>\n",
       "    <tr>\n",
       "      <th>0</th>\n",
       "      <td>13039951</td>\n",
       "    </tr>\n",
       "    <tr>\n",
       "      <th>2</th>\n",
       "      <td>5056560</td>\n",
       "    </tr>\n",
       "    <tr>\n",
       "      <th>6</th>\n",
       "      <td>33183203</td>\n",
       "    </tr>\n",
       "    <tr>\n",
       "      <th>16</th>\n",
       "      <td>5561833</td>\n",
       "    </tr>\n",
       "    <tr>\n",
       "      <th>43</th>\n",
       "      <td>3495948</td>\n",
       "    </tr>\n",
       "  </tbody>\n",
       "</table>\n",
       "</div>"
      ],
      "text/plain": [
       "         uid\n",
       "0   13039951\n",
       "2    5056560\n",
       "6   33183203\n",
       "16   5561833\n",
       "43   3495948"
      ]
     },
     "execution_count": 16,
     "metadata": {},
     "output_type": "execute_result"
    }
   ],
   "source": [
    "user_id_file = user_file[['uid']].drop_duplicates()\n",
    "user_id_file.head()\n",
    "\n",
    "\n"
   ]
  },
  {
   "cell_type": "code",
   "execution_count": 17,
   "metadata": {},
   "outputs": [
    {
     "data": {
      "text/plain": [
       "[Row(uid=13039951),\n",
       " Row(uid=5056560),\n",
       " Row(uid=33183203),\n",
       " Row(uid=5561833),\n",
       " Row(uid=3495948)]"
      ]
     },
     "execution_count": 17,
     "metadata": {},
     "output_type": "execute_result"
    }
   ],
   "source": [
    "user_id_rdd = sqlContext.createDataFrame(user_id_file).rdd\n",
    "user_id_rdd.take(10)"
   ]
  },
  {
   "cell_type": "code",
   "execution_count": 28,
   "metadata": {},
   "outputs": [
    {
     "name": "stdout",
     "output_type": "stream",
     "text": [
      "13039951\n",
      "5056560\n",
      "33183203\n",
      "5561833\n",
      "3495948\n"
     ]
    }
   ],
   "source": [
    "# prediction input is (to_be_predict_uid, all_repo_id)\n",
    "#user_id = user_rdd.take(1)[0].uid\n",
    "\n",
    "# put the predicting into the loop\n",
    "# need to use multi-thread? \n",
    "num = user_id_rdd.count()\n",
    "for i in range(num):\n",
    "    print(user_id_rdd.take(num)[i].uid)\n",
    "user_id = user_rdd.take(5)[2].uid\n",
    "\n",
    "\n",
    "\n"
   ]
  },
  {
   "cell_type": "code",
   "execution_count": null,
   "metadata": {},
   "outputs": [],
   "source": [
    "predict_input_rdd = training_rdd \\\n",
    "    .map(lambda row: (user_id, row[1])) \\\n",
    "    .distinct()\n",
    "predict_input_rdd.take(20)"
   ]
  },
  {
   "cell_type": "code",
   "execution_count": 49,
   "metadata": {},
   "outputs": [
    {
     "data": {
      "text/plain": [
       "[13039951]"
      ]
     },
     "execution_count": 49,
     "metadata": {},
     "output_type": "execute_result"
    }
   ],
   "source": [
    "temp = predict_input_rdd.map(lambda row: (row[0])) \\\n",
    "    .distinct()\n",
    "temp.take(5)"
   ]
  },
  {
   "cell_type": "code",
   "execution_count": 31,
   "metadata": {},
   "outputs": [],
   "source": [
    "predictions = model.predictAll(predict_input_rdd).sortBy(lambda row: -row.rating)"
   ]
  },
  {
   "cell_type": "code",
   "execution_count": 32,
   "metadata": {},
   "outputs": [
    {
     "data": {
      "text/plain": [
       "[120538304,\n",
       " 1039520,\n",
       " 33614304,\n",
       " 21872392,\n",
       " 31792824,\n",
       " 24953448,\n",
       " 22790488,\n",
       " 12256376,\n",
       " 724712,\n",
       " 3544424]"
      ]
     },
     "execution_count": 32,
     "metadata": {},
     "output_type": "execute_result"
    }
   ],
   "source": [
    "\n",
    "# remove repos user already starred\n",
    "# this is top 10 recommendations for user\n",
    "# which user?\n",
    "predictions.map(lambda row: (row.product, row)) \\\n",
    "    .subtractByKey(user_rdd.map(lambda row: (row[1], 0))) \\\n",
    "    .map(lambda row: row[0]) \\\n",
    "    .take(10)"
   ]
  },
  {
   "cell_type": "code",
   "execution_count": null,
   "metadata": {},
   "outputs": [],
   "source": []
  }
 ],
 "metadata": {
  "kernelspec": {
   "display_name": "Python 3",
   "language": "python",
   "name": "python3"
  },
  "language_info": {
   "codemirror_mode": {
    "name": "ipython",
    "version": 3
   },
   "file_extension": ".py",
   "mimetype": "text/x-python",
   "name": "python",
   "nbconvert_exporter": "python",
   "pygments_lexer": "ipython3",
   "version": "3.6.5"
  }
 },
 "nbformat": 4,
 "nbformat_minor": 2
}
