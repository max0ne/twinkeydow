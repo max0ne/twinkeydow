{
 "cells": [
  {
   "cell_type": "code",
   "execution_count": 1,
   "metadata": {},
   "outputs": [],
   "source": [
    "import boto3\n",
    "import pandas as pd"
   ]
  },
  {
   "cell_type": "code",
   "execution_count": 2,
   "metadata": {
    "scrolled": false
   },
   "outputs": [
    {
     "data": {
      "text/html": [
       "<div>\n",
       "<style scoped>\n",
       "    .dataframe tbody tr th:only-of-type {\n",
       "        vertical-align: middle;\n",
       "    }\n",
       "\n",
       "    .dataframe tbody tr th {\n",
       "        vertical-align: top;\n",
       "    }\n",
       "\n",
       "    .dataframe thead th {\n",
       "        text-align: right;\n",
       "    }\n",
       "</style>\n",
       "<table border=\"1\" class=\"dataframe\">\n",
       "  <thead>\n",
       "    <tr style=\"text-align: right;\">\n",
       "      <th></th>\n",
       "      <th>uid</th>\n",
       "      <th>repoid</th>\n",
       "      <th>uname</th>\n",
       "      <th>reponame</th>\n",
       "      <th>date</th>\n",
       "    </tr>\n",
       "  </thead>\n",
       "  <tbody>\n",
       "    <tr>\n",
       "      <th>0</th>\n",
       "      <td>24466870</td>\n",
       "      <td>59996401</td>\n",
       "      <td>zzkkui</td>\n",
       "      <td>yapi</td>\n",
       "      <td>2018-03-13T01:07:02Z</td>\n",
       "    </tr>\n",
       "    <tr>\n",
       "      <th>1</th>\n",
       "      <td>24466870</td>\n",
       "      <td>5239185</td>\n",
       "      <td>zzkkui</td>\n",
       "      <td>quill</td>\n",
       "      <td>2018-03-13T01:07:02Z</td>\n",
       "    </tr>\n",
       "    <tr>\n",
       "      <th>2</th>\n",
       "      <td>24466870</td>\n",
       "      <td>76567547</td>\n",
       "      <td>zzkkui</td>\n",
       "      <td>vue-quill-editor</td>\n",
       "      <td>2018-03-13T01:07:02Z</td>\n",
       "    </tr>\n",
       "    <tr>\n",
       "      <th>3</th>\n",
       "      <td>24466870</td>\n",
       "      <td>105479936</td>\n",
       "      <td>zzkkui</td>\n",
       "      <td>react-email-editor</td>\n",
       "      <td>2018-03-13T01:07:02Z</td>\n",
       "    </tr>\n",
       "    <tr>\n",
       "      <th>4</th>\n",
       "      <td>24466870</td>\n",
       "      <td>16179237</td>\n",
       "      <td>zzkkui</td>\n",
       "      <td>virtual-dom</td>\n",
       "      <td>2018-03-13T01:07:02Z</td>\n",
       "    </tr>\n",
       "  </tbody>\n",
       "</table>\n",
       "</div>"
      ],
      "text/plain": [
       "        uid     repoid   uname            reponame                  date\n",
       "0  24466870   59996401  zzkkui                yapi  2018-03-13T01:07:02Z\n",
       "1  24466870    5239185  zzkkui               quill  2018-03-13T01:07:02Z\n",
       "2  24466870   76567547  zzkkui    vue-quill-editor  2018-03-13T01:07:02Z\n",
       "3  24466870  105479936  zzkkui  react-email-editor  2018-03-13T01:07:02Z\n",
       "4  24466870   16179237  zzkkui         virtual-dom  2018-03-13T01:07:02Z"
      ]
     },
     "execution_count": 2,
     "metadata": {},
     "output_type": "execute_result"
    }
   ],
   "source": [
    "train_file = pd.read_csv('data/train.csv', index_col=None, sep=',') \\\n",
    "    .drop_duplicates()\n",
    "train_file.columns = ['uid', 'repoid', 'uname', 'reponame', 'date']\n",
    "train_file = train_file.drop_duplicates()\n",
    "train_file.head()"
   ]
  },
  {
   "cell_type": "code",
   "execution_count": 3,
   "metadata": {},
   "outputs": [
    {
     "data": {
      "text/html": [
       "<div>\n",
       "<style scoped>\n",
       "    .dataframe tbody tr th:only-of-type {\n",
       "        vertical-align: middle;\n",
       "    }\n",
       "\n",
       "    .dataframe tbody tr th {\n",
       "        vertical-align: top;\n",
       "    }\n",
       "\n",
       "    .dataframe thead th {\n",
       "        text-align: right;\n",
       "    }\n",
       "</style>\n",
       "<table border=\"1\" class=\"dataframe\">\n",
       "  <thead>\n",
       "    <tr style=\"text-align: right;\">\n",
       "      <th></th>\n",
       "      <th>uid</th>\n",
       "      <th>repoid</th>\n",
       "      <th>uname</th>\n",
       "      <th>reponame</th>\n",
       "      <th>date</th>\n",
       "    </tr>\n",
       "  </thead>\n",
       "  <tbody>\n",
       "    <tr>\n",
       "      <th>0</th>\n",
       "      <td>6669386</td>\n",
       "      <td>1181927</td>\n",
       "      <td>daimingzhong</td>\n",
       "      <td>bitcoin</td>\n",
       "      <td>Wed Mar 14 2018 23:06:44 GMT-0400 (EDT)</td>\n",
       "    </tr>\n",
       "    <tr>\n",
       "      <th>1</th>\n",
       "      <td>6669386</td>\n",
       "      <td>113401553</td>\n",
       "      <td>daimingzhong</td>\n",
       "      <td>music_back</td>\n",
       "      <td>Wed Mar 14 2018 23:06:44 GMT-0400 (EDT)</td>\n",
       "    </tr>\n",
       "    <tr>\n",
       "      <th>2</th>\n",
       "      <td>6669386</td>\n",
       "      <td>21942759</td>\n",
       "      <td>daimingzhong</td>\n",
       "      <td>r4intellij</td>\n",
       "      <td>Wed Mar 14 2018 23:06:44 GMT-0400 (EDT)</td>\n",
       "    </tr>\n",
       "    <tr>\n",
       "      <th>3</th>\n",
       "      <td>6669386</td>\n",
       "      <td>73776538</td>\n",
       "      <td>daimingzhong</td>\n",
       "      <td>R-Data-Structures-and-Algorithms</td>\n",
       "      <td>Wed Mar 14 2018 23:06:44 GMT-0400 (EDT)</td>\n",
       "    </tr>\n",
       "    <tr>\n",
       "      <th>4</th>\n",
       "      <td>6669386</td>\n",
       "      <td>3749321</td>\n",
       "      <td>daimingzhong</td>\n",
       "      <td>Unblock-Youku</td>\n",
       "      <td>Wed Mar 14 2018 23:06:44 GMT-0400 (EDT)</td>\n",
       "    </tr>\n",
       "  </tbody>\n",
       "</table>\n",
       "</div>"
      ],
      "text/plain": [
       "       uid     repoid         uname                          reponame  \\\n",
       "0  6669386    1181927  daimingzhong                           bitcoin   \n",
       "1  6669386  113401553  daimingzhong                        music_back   \n",
       "2  6669386   21942759  daimingzhong                        r4intellij   \n",
       "3  6669386   73776538  daimingzhong  R-Data-Structures-and-Algorithms   \n",
       "4  6669386    3749321  daimingzhong                     Unblock-Youku   \n",
       "\n",
       "                                      date  \n",
       "0  Wed Mar 14 2018 23:06:44 GMT-0400 (EDT)  \n",
       "1  Wed Mar 14 2018 23:06:44 GMT-0400 (EDT)  \n",
       "2  Wed Mar 14 2018 23:06:44 GMT-0400 (EDT)  \n",
       "3  Wed Mar 14 2018 23:06:44 GMT-0400 (EDT)  \n",
       "4  Wed Mar 14 2018 23:06:44 GMT-0400 (EDT)  "
      ]
     },
     "execution_count": 3,
     "metadata": {},
     "output_type": "execute_result"
    }
   ],
   "source": [
    "user_file = pd.read_csv('data/user.csv', index_col=None, sep=',') \\\n",
    "    .drop_duplicates()\n",
    "user_file.columns = ['uid', 'repoid', 'uname', 'reponame', 'date']\n",
    "user_file = user_file.drop_duplicates()\n",
    "user_file.head()"
   ]
  },
  {
   "cell_type": "code",
   "execution_count": 4,
   "metadata": {},
   "outputs": [
    {
     "data": {
      "text/html": [
       "<div>\n",
       "<style scoped>\n",
       "    .dataframe tbody tr th:only-of-type {\n",
       "        vertical-align: middle;\n",
       "    }\n",
       "\n",
       "    .dataframe tbody tr th {\n",
       "        vertical-align: top;\n",
       "    }\n",
       "\n",
       "    .dataframe thead th {\n",
       "        text-align: right;\n",
       "    }\n",
       "</style>\n",
       "<table border=\"1\" class=\"dataframe\">\n",
       "  <thead>\n",
       "    <tr style=\"text-align: right;\">\n",
       "      <th></th>\n",
       "      <th>uid</th>\n",
       "      <th>repoid</th>\n",
       "    </tr>\n",
       "  </thead>\n",
       "  <tbody>\n",
       "    <tr>\n",
       "      <th>0</th>\n",
       "      <td>24466870</td>\n",
       "      <td>59996401</td>\n",
       "    </tr>\n",
       "    <tr>\n",
       "      <th>1</th>\n",
       "      <td>24466870</td>\n",
       "      <td>5239185</td>\n",
       "    </tr>\n",
       "    <tr>\n",
       "      <th>2</th>\n",
       "      <td>24466870</td>\n",
       "      <td>76567547</td>\n",
       "    </tr>\n",
       "    <tr>\n",
       "      <th>3</th>\n",
       "      <td>24466870</td>\n",
       "      <td>105479936</td>\n",
       "    </tr>\n",
       "    <tr>\n",
       "      <th>4</th>\n",
       "      <td>24466870</td>\n",
       "      <td>16179237</td>\n",
       "    </tr>\n",
       "  </tbody>\n",
       "</table>\n",
       "</div>"
      ],
      "text/plain": [
       "        uid     repoid\n",
       "0  24466870   59996401\n",
       "1  24466870    5239185\n",
       "2  24466870   76567547\n",
       "3  24466870  105479936\n",
       "4  24466870   16179237"
      ]
     },
     "execution_count": 4,
     "metadata": {},
     "output_type": "execute_result"
    }
   ],
   "source": [
    "# take only uid / repoid\n",
    "train_file = train_file[['uid', 'repoid']]\n",
    "train_file.head()"
   ]
  },
  {
   "cell_type": "code",
   "execution_count": 5,
   "metadata": {},
   "outputs": [
    {
     "data": {
      "text/html": [
       "<div>\n",
       "<style scoped>\n",
       "    .dataframe tbody tr th:only-of-type {\n",
       "        vertical-align: middle;\n",
       "    }\n",
       "\n",
       "    .dataframe tbody tr th {\n",
       "        vertical-align: top;\n",
       "    }\n",
       "\n",
       "    .dataframe thead th {\n",
       "        text-align: right;\n",
       "    }\n",
       "</style>\n",
       "<table border=\"1\" class=\"dataframe\">\n",
       "  <thead>\n",
       "    <tr style=\"text-align: right;\">\n",
       "      <th></th>\n",
       "      <th>uid</th>\n",
       "      <th>repoid</th>\n",
       "    </tr>\n",
       "  </thead>\n",
       "  <tbody>\n",
       "    <tr>\n",
       "      <th>0</th>\n",
       "      <td>6669386</td>\n",
       "      <td>1181927</td>\n",
       "    </tr>\n",
       "    <tr>\n",
       "      <th>1</th>\n",
       "      <td>6669386</td>\n",
       "      <td>113401553</td>\n",
       "    </tr>\n",
       "    <tr>\n",
       "      <th>2</th>\n",
       "      <td>6669386</td>\n",
       "      <td>21942759</td>\n",
       "    </tr>\n",
       "    <tr>\n",
       "      <th>3</th>\n",
       "      <td>6669386</td>\n",
       "      <td>73776538</td>\n",
       "    </tr>\n",
       "    <tr>\n",
       "      <th>4</th>\n",
       "      <td>6669386</td>\n",
       "      <td>3749321</td>\n",
       "    </tr>\n",
       "  </tbody>\n",
       "</table>\n",
       "</div>"
      ],
      "text/plain": [
       "       uid     repoid\n",
       "0  6669386    1181927\n",
       "1  6669386  113401553\n",
       "2  6669386   21942759\n",
       "3  6669386   73776538\n",
       "4  6669386    3749321"
      ]
     },
     "execution_count": 5,
     "metadata": {},
     "output_type": "execute_result"
    }
   ],
   "source": [
    "# same thing for user file\n",
    "user_file = user_file[['uid', 'repoid']]\n",
    "user_file.head()"
   ]
  },
  {
   "cell_type": "code",
   "execution_count": 6,
   "metadata": {},
   "outputs": [],
   "source": [
    "import findspark\n",
    "findspark.init()\n",
    "\n",
    "from pyspark import SparkContext\n",
    "from pyspark.sql import SQLContext\n",
    "\n",
    "from pyspark.mllib.recommendation import ALS\n",
    "\n",
    "sc = SparkContext(appName=\"RR\")\n",
    "sqlContext = SQLContext(sc)"
   ]
  },
  {
   "cell_type": "code",
   "execution_count": 7,
   "metadata": {},
   "outputs": [],
   "source": [
    "def first_two_column(row):\n",
    "    return (int(row[0]), int(row[1]), 1.0)"
   ]
  },
  {
   "cell_type": "code",
   "execution_count": 8,
   "metadata": {},
   "outputs": [],
   "source": [
    "training_rdd = sqlContext.createDataFrame(train_file).rdd\n",
    "training_rdd = training_rdd \\\n",
    "    .map(first_two_column)"
   ]
  },
  {
   "cell_type": "code",
   "execution_count": 9,
   "metadata": {},
   "outputs": [
    {
     "data": {
      "text/plain": [
       "[(24466870, 59996401, 1.0),\n",
       " (24466870, 5239185, 1.0),\n",
       " (24466870, 76567547, 1.0),\n",
       " (24466870, 105479936, 1.0),\n",
       " (24466870, 16179237, 1.0)]"
      ]
     },
     "execution_count": 9,
     "metadata": {},
     "output_type": "execute_result"
    }
   ],
   "source": [
    "training_rdd.take(5)"
   ]
  },
  {
   "cell_type": "code",
   "execution_count": 10,
   "metadata": {},
   "outputs": [],
   "source": [
    "# this takes a short while too\n",
    "model = ALS.trainImplicit( \\\n",
    "    training_rdd,\n",
    "    rank=16,\n",
    "    iterations=10,\n",
    "    lambda_=0.1,\n",
    "    alpha=80.0\n",
    ")"
   ]
  },
  {
   "cell_type": "code",
   "execution_count": 11,
   "metadata": {},
   "outputs": [
    {
     "data": {
      "text/plain": [
       "[Row(uid=6669386, repoid=1181927),\n",
       " Row(uid=6669386, repoid=113401553),\n",
       " Row(uid=6669386, repoid=21942759),\n",
       " Row(uid=6669386, repoid=73776538),\n",
       " Row(uid=6669386, repoid=3749321)]"
      ]
     },
     "execution_count": 11,
     "metadata": {},
     "output_type": "execute_result"
    }
   ],
   "source": [
    "user_rdd = sqlContext.createDataFrame(user_file).rdd\n",
    "user_rdd.take(5)"
   ]
  },
  {
   "cell_type": "code",
   "execution_count": 12,
   "metadata": {},
   "outputs": [],
   "source": [
    "# append user to training set and train again\n",
    "training_rdd = training_rdd.union(user_rdd.map(first_two_column))\n",
    "# this takes a short while too\n",
    "model = ALS.trainImplicit( \\\n",
    "    training_rdd,\n",
    "    rank=16,\n",
    "    iterations=10,\n",
    "    lambda_=0.1,\n",
    "    alpha=80.0\n",
    ")"
   ]
  },
  {
   "cell_type": "code",
   "execution_count": 13,
   "metadata": {},
   "outputs": [
    {
     "data": {
      "text/plain": [
       "[(6669386, 105479936),\n",
       " (6669386, 67274736),\n",
       " (6669386, 48804792),\n",
       " (6669386, 15637960),\n",
       " (6669386, 9595928)]"
      ]
     },
     "execution_count": 13,
     "metadata": {},
     "output_type": "execute_result"
    }
   ],
   "source": [
    "# prediction input is (to_be_predict_uid, all_repo_id)\n",
    "user_id = user_rdd.take(1)[0].uid\n",
    "predict_input_rdd = training_rdd \\\n",
    "    .map(lambda row: (user_id, row[1])) \\\n",
    "    .distinct()\n",
    "predict_input_rdd.take(5)"
   ]
  },
  {
   "cell_type": "code",
   "execution_count": 14,
   "metadata": {},
   "outputs": [],
   "source": [
    "predictions = model.predictAll(predict_input_rdd).sortBy(lambda row: -row.rating)"
   ]
  },
  {
   "cell_type": "code",
   "execution_count": 15,
   "metadata": {},
   "outputs": [
    {
     "data": {
      "text/plain": [
       "[102523304,\n",
       " 67186968,\n",
       " 75830968,\n",
       " 52677592,\n",
       " 21872392,\n",
       " 83844720,\n",
       " 724712,\n",
       " 63484632,\n",
       " 45457072,\n",
       " 11981144]"
      ]
     },
     "execution_count": 15,
     "metadata": {},
     "output_type": "execute_result"
    }
   ],
   "source": [
    "# remove repos user already starred\n",
    "# this is top 10 recommendations for user\n",
    "predictions.map(lambda row: (row.product, row)) \\\n",
    "    .subtractByKey(user_rdd.map(lambda row: (row[1], 0))) \\\n",
    "    .map(lambda row: row[0]) \\\n",
    "    .take(10)\n"
   ]
  },
  {
   "cell_type": "code",
   "execution_count": null,
   "metadata": {},
   "outputs": [],
   "source": []
  }
 ],
 "metadata": {
  "kernelspec": {
   "display_name": "Python 3",
   "language": "python",
   "name": "python3"
  },
  "language_info": {
   "codemirror_mode": {
    "name": "ipython",
    "version": 3
   },
   "file_extension": ".py",
   "mimetype": "text/x-python",
   "name": "python",
   "nbconvert_exporter": "python",
   "pygments_lexer": "ipython3",
   "version": "3.6.2"
  }
 },
 "nbformat": 4,
 "nbformat_minor": 2
}
